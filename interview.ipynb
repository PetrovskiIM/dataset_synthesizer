{
 "cells": [
  {
   "cell_type": "code",
   "execution_count": 1,
   "metadata": {},
   "outputs": [
    {
     "name": "stdout",
     "output_type": "stream",
     "text": [
      "Copying observations from the provided folders...1183. Done!.\n"
     ]
    }
   ],
   "source": [
    "!sh run.sh"
   ]
  },
  {
   "cell_type": "code",
   "execution_count": 2,
   "metadata": {
    "pycharm": {
     "name": "#%%\n"
    }
   },
   "outputs": [],
   "source": [
    "from multiprocessing import Pool\n",
    "import pandas as pd\n",
    "from config import instruments_list, instrument_pitch_bondaries, shift_step, \\\n",
    "    columns_with_shift_meta as template_names, \\\n",
    "    re_instrumented_chunked_copies_columns_with_shift_meta as names, \\\n",
    "    csv_paths_with_shift_meta as template_csv_path\n",
    "import warnings\n",
    "\n",
    "warnings.simplefilter(\"ignore\")"
   ]
  },
  {
   "cell_type": "code",
   "execution_count": 3,
   "metadata": {
    "pycharm": {
     "name": "#%%\n"
    }
   },
   "outputs": [],
   "source": [
    "dispatcher_df = pd.read_csv(f\"{template_csv_path}.csv\", names=template_names)"
   ]
  },
  {
   "cell_type": "code",
   "execution_count": 4,
   "metadata": {
    "pycharm": {
     "name": "#%%\n"
    }
   },
   "outputs": [],
   "source": [
    "list_of_instrument_specific_frames = []\n",
    "for instrument in instruments_list:\n",
    "    boundaries = instrument_pitch_bondaries[instrument]\n",
    "    observations_in_range = dispatcher_df.loc[(dispatcher_df[\"max_note\"] <= boundaries[\"max_note\"]) &\n",
    "                                              (dispatcher_df[\"min_note\"] >= boundaries[\"min_note\"])]\n",
    "    observations_in_range[\"instrument\"] = instrument\n",
    "    list_of_instrument_specific_frames.append(observations_in_range)\n",
    "re_intrumented = pd.concat(list_of_instrument_specific_frames, ignore_index=True)    "
   ]
  },
  {
   "cell_type": "code",
   "execution_count": 5,
   "metadata": {
    "pycharm": {
     "name": "#%%\n"
    }
   },
   "outputs": [],
   "source": [
    "boundaries = pd.DataFrame.from_records(\n",
    "        [instrument_pitch_bondaries[instrument]\n",
    "         for instrument in re_intrumented[\"instrument\"].values])[[\"max_note\", \"min_note\"]]\n",
    "re_intrumented[\"up_boundary\"] = boundaries[\"max_note\"].values\n",
    "re_intrumented[\"down_boundary\"] = boundaries[\"min_note\"].values"
   ]
  },
  {
   "cell_type": "code",
   "execution_count": 6,
   "metadata": {
    "pycharm": {
     "name": "#%%\n"
    }
   },
   "outputs": [],
   "source": [
    "list_of_shift_specific_frames = []\n",
    "for shift in range(-127, 127):\n",
    "    criterion_results = \\\n",
    "        (re_intrumented[\"max_note\"] + shift_step * shift <= re_intrumented[\"up_boundary\"]) & \\\n",
    "        (re_intrumented[\"min_note\"] + shift_step * shift >= re_intrumented[\"down_boundary\"])\n",
    "    observations_in_range_for_current_shift = re_intrumented.loc[criterion_results]\n",
    "    observations_in_range_for_current_shift[\"relative_shift\"] = shift\n",
    "    list_of_shift_specific_frames.append(observations_in_range_for_current_shift)\n",
    "df = pd.concat(list_of_shift_specific_frames, ignore_index=True)"
   ]
  },
  {
   "cell_type": "code",
   "execution_count": 7,
   "metadata": {},
   "outputs": [
    {
     "name": "stdout",
     "output_type": "stream",
     "text": [
      "names left in line: 172, while number of observations is 23736\n"
     ]
    }
   ],
   "source": [
    "df[\"shift\"] = df[\"relative_shift\"] + df[\"min_note\"]//shift_step\n",
    "df[\"shift\"] -= df[\"shift\"].min()\n",
    "\n",
    "absolute_shift_range_deltas = [4, -10]\n",
    "valid_names = list(set(df.loc[df[\"shift\"]==df[\"shift\"].min()+absolute_shift_range_deltas[0], \"name\"].unique())\\\n",
    "                   .intersection(df.loc[df[\"shift\"]==df[\"shift\"].max()+absolute_shift_range_deltas[1], \"name\"].unique()))\n",
    "outcast_criterion = df[\"name\"] != valid_names[0]\n",
    "for valid_name in valid_names[1:]:\n",
    "    outcast_criterion = outcast_criterion & (df[\"name\"] != valid_name)\n",
    "elite_df = df.loc[(outcast_criterion == False) & (df[\"shift\"] <= df[\"shift\"].max() + absolute_shift_range_deltas[1])\\\n",
    "                  & (df[\"shift\"]>=df[\"shift\"].min()+absolute_shift_range_deltas[0])]\n",
    "print(f'names left in line: {len(elite_df[\"name\"].value_counts().index.values)}, while number of ' \n",
    "      f'observations is {len(elite_df)}')\n"
   ]
  },
  {
   "cell_type": "code",
   "execution_count": null,
   "metadata": {},
   "outputs": [],
   "source": [
    "if __name__ == '__main__':\n",
    "    print(4)"
   ]
  },
  {
   "cell_type": "code",
   "execution_count": 8,
   "metadata": {},
   "outputs": [
    {
     "name": "stdout",
     "output_type": "stream",
     "text": [
      "Name is indeed main.\n"
     ]
    }
   ],
   "source": [
    "from multiprocessing import Pool\n",
    "import pandas as pd\n",
    "from config import re_instrumented_chunked_copies_csv_path as target_csv_path, \\\n",
    "                   re_instrumented_chunked_copies_storage_path as target_storage_path,\\\n",
    "                   re_instrumented_chunked_copies_columns_with_shift_meta as names\n",
    "import augmentations\n",
    "if __name__ == '__main__':\n",
    "    print(\"Name is indeed main.\")\n",
    "    target_storage_path.mkdir(parents=True, exist_ok=True)\n",
    "    for instrument in instruments_list:\n",
    "        paths = elite_df.loc[(elite_df[\"instrument\"] == instrument), \"path\"].value_counts().index.values \n",
    "\n",
    "        if len(paths) == 0:\n",
    "            print(\"no observation in range\")\n",
    "            continue\n",
    "\n",
    "        def f(x):\n",
    "            augmentations.change_instrument(f\"{x}.mid\",\n",
    "                                            f\"{target_storage_path}/{x.split('/')[-1]}_{instrument}.mid\", instrument)\n",
    "        with Pool(5) as p:\n",
    "            p.map(f, paths)\n",
    "elite_df[\"path\"] = [f\"{target_storage_path}/{path.split('/')[-1]}_{instrument}\" \n",
    "                    for path, instrument in elite_df[[\"path\", \"instrument\"]].values]"
   ]
  },
  {
   "cell_type": "code",
   "execution_count": 9,
   "metadata": {},
   "outputs": [
    {
     "name": "stdout",
     "output_type": "stream",
     "text": [
      "Name is indeed main.\n"
     ]
    }
   ],
   "source": [
    "from multiprocessing import Pool\n",
    "import pandas as pd\n",
    "from config import instrument_pitch_bondaries, shift_step, \\\n",
    "    re_instrumented_chunked_copies_columns_with_shift_meta as template_names, \\\n",
    "    shifted_re_instrumented_chunked_copies_columns_with_shift_meta as names, \\\n",
    "    re_instrumented_chunked_copies_csv_path as template_csv_path, \\\n",
    "    shifted_re_instrumented_chunked_copies_csv_path as target_csv_path, \\\n",
    "    shifted_re_instrumented_chunked_copies_storage_path as target_storage_path\n",
    "import augmentations\n",
    "\n",
    "import warnings\n",
    "\n",
    "warnings.simplefilter(\"ignore\")\n",
    "\n",
    "if __name__ == '__main__':\n",
    "    print(\"Name is indeed main.\")\n",
    "    target_storage_path.mkdir(parents=True, exist_ok=True)\n",
    "    \n",
    "    for shift in range(-127 // shift_step, 127 // shift_step):\n",
    "        paths = elite_df.loc[(elite_df[\"relative_shift\"] == shift), \"path\"].value_counts().index.values \n",
    "        if len(paths) == 0:\n",
    "            continue\n",
    "\n",
    "        def f(path):\n",
    "            augmentations.change_octave(f\"{path}.mid\",\n",
    "                                        f\"{target_storage_path}/{path.split('/')[-1]}_{shift}.mid\", shift, shift_step)\n",
    "\n",
    "\n",
    "        with Pool(5) as p:\n",
    "            p.map(f, paths)\n",
    "\n",
    "elite_df[\"path\"] = [f\"{target_storage_path}/{path.split('/')[-1]}_{shift}\"\n",
    "                    for path, shift in elite_df[[\"path\", \"relative_shift\"]].values]\n",
    "elite_df[names].to_csv(f\"{target_csv_path}.csv\", index=False, header=False, mode=\"a\")"
   ]
  },
  {
   "cell_type": "code",
   "execution_count": null,
   "metadata": {},
   "outputs": [],
   "source": [
    "from config import ROOT\n",
    "elite_df[names].to_csv(f\"{ROOT}/elite.csv\", index=False, header=True, mode=\"a\")"
   ]
  }
 ],
 "metadata": {
  "kernelspec": {
   "display_name": "Python 3",
   "language": "python",
   "name": "python3"
  },
  "language_info": {
   "codemirror_mode": {
    "name": "ipython",
    "version": 3
   },
   "file_extension": ".py",
   "mimetype": "text/x-python",
   "name": "python",
   "nbconvert_exporter": "python",
   "pygments_lexer": "ipython3",
   "version": "3.7.7"
  }
 },
 "nbformat": 4,
 "nbformat_minor": 1
}
